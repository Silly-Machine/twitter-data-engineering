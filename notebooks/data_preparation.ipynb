{
 "cells": [
  {
   "cell_type": "code",
   "execution_count": 1,
   "metadata": {},
   "outputs": [],
   "source": [
    "from utils import find_root\n",
    "find_root()"
   ]
  },
  {
   "cell_type": "code",
   "execution_count": 2,
   "metadata": {},
   "outputs": [],
   "source": [
    "import pandas as pd\n",
    "from src.dataPreparation import *"
   ]
  },
  {
   "cell_type": "code",
   "execution_count": 3,
   "metadata": {},
   "outputs": [
    {
     "name": "stderr",
     "output_type": "stream",
     "text": [
      "/home/kunumi/Documentos/SLM/twitter-data-engineering/src/dataPreparation.py:9: UserWarning: Could not infer format, so each element will be parsed individually, falling back to `dateutil`. To ensure parsing is consistent and as-expected, please specify a format.\n",
      "  df['created_at'] = pd.to_datetime(df['created_at'])\n"
     ]
    }
   ],
   "source": [
    "df = load_dataframes()\n",
    "df = sort_dataframe_by_date(df)\n",
    "df = drop_columns(df)\n",
    "df = drop_duplicates(df)\n",
    "df = normalize_entities(df)\n",
    "df = drop_user_column(df)"
   ]
  },
  {
   "cell_type": "code",
   "execution_count": 4,
   "metadata": {},
   "outputs": [
    {
     "data": {
      "text/html": [
       "<div>\n",
       "<style scoped>\n",
       "    .dataframe tbody tr th:only-of-type {\n",
       "        vertical-align: middle;\n",
       "    }\n",
       "\n",
       "    .dataframe tbody tr th {\n",
       "        vertical-align: top;\n",
       "    }\n",
       "\n",
       "    .dataframe thead th {\n",
       "        text-align: right;\n",
       "    }\n",
       "</style>\n",
       "<table border=\"1\" class=\"dataframe\">\n",
       "  <thead>\n",
       "    <tr style=\"text-align: right;\">\n",
       "      <th></th>\n",
       "      <th>created_at</th>\n",
       "      <th>id</th>\n",
       "      <th>full_text</th>\n",
       "      <th>display_text_range</th>\n",
       "      <th>possibly_sensitive</th>\n",
       "      <th>hashtags</th>\n",
       "      <th>symbols</th>\n",
       "      <th>user_mentions</th>\n",
       "      <th>urls</th>\n",
       "      <th>media</th>\n",
       "    </tr>\n",
       "  </thead>\n",
       "  <tbody>\n",
       "    <tr>\n",
       "      <th>0</th>\n",
       "      <td>2023-05-16 14:31:56+00:00</td>\n",
       "      <td>1658480406386339841</td>\n",
       "      <td>@cnnportugal Muito semelhante as jóias que bol...</td>\n",
       "      <td>[13, 91]</td>\n",
       "      <td>NaN</td>\n",
       "      <td>[]</td>\n",
       "      <td>[]</td>\n",
       "      <td>[{'screen_name': 'cnnportugal', 'name': 'CNN P...</td>\n",
       "      <td>[]</td>\n",
       "      <td>NaN</td>\n",
       "    </tr>\n",
       "    <tr>\n",
       "      <th>1</th>\n",
       "      <td>2023-05-16 14:31:59+00:00</td>\n",
       "      <td>1658480417455095815</td>\n",
       "      <td>@charopa309 @folha Bolsonaro na cadeia 2 tbm e...</td>\n",
       "      <td>[19, 57]</td>\n",
       "      <td>NaN</td>\n",
       "      <td>[]</td>\n",
       "      <td>[]</td>\n",
       "      <td>[{'screen_name': 'charopa309', 'name': 'Naro P...</td>\n",
       "      <td>[]</td>\n",
       "      <td>NaN</td>\n",
       "    </tr>\n",
       "    <tr>\n",
       "      <th>2</th>\n",
       "      <td>2023-05-16 14:32:01+00:00</td>\n",
       "      <td>1658480424967106562</td>\n",
       "      <td>@rede_marco Este Bolsonaro só matou muitos dos...</td>\n",
       "      <td>[12, 94]</td>\n",
       "      <td>NaN</td>\n",
       "      <td>[]</td>\n",
       "      <td>[]</td>\n",
       "      <td>[{'screen_name': 'rede_marco', 'name': 'Rede M...</td>\n",
       "      <td>[]</td>\n",
       "      <td>NaN</td>\n",
       "    </tr>\n",
       "    <tr>\n",
       "      <th>3</th>\n",
       "      <td>2023-05-16 14:32:05+00:00</td>\n",
       "      <td>1658480444789383168</td>\n",
       "      <td>@senadorhumberto Amor pelo bolsonaro e demais 🥱</td>\n",
       "      <td>[17, 47]</td>\n",
       "      <td>NaN</td>\n",
       "      <td>[]</td>\n",
       "      <td>[]</td>\n",
       "      <td>[{'screen_name': 'senadorhumberto', 'name': 'H...</td>\n",
       "      <td>[]</td>\n",
       "      <td>NaN</td>\n",
       "    </tr>\n",
       "    <tr>\n",
       "      <th>4</th>\n",
       "      <td>2023-05-16 14:32:05+00:00</td>\n",
       "      <td>1658480443631767552</td>\n",
       "      <td>Petrobras \\nGoverno Bolsonaro \\nEstadão \\nDefe...</td>\n",
       "      <td>[0, 147]</td>\n",
       "      <td>False</td>\n",
       "      <td>[]</td>\n",
       "      <td>[]</td>\n",
       "      <td>[]</td>\n",
       "      <td>[{'url': 'https://t.co/ScEfwzqhUV', 'expanded_...</td>\n",
       "      <td>NaN</td>\n",
       "    </tr>\n",
       "  </tbody>\n",
       "</table>\n",
       "</div>"
      ],
      "text/plain": [
       "                 created_at                   id   \n",
       "0 2023-05-16 14:31:56+00:00  1658480406386339841  \\\n",
       "1 2023-05-16 14:31:59+00:00  1658480417455095815   \n",
       "2 2023-05-16 14:32:01+00:00  1658480424967106562   \n",
       "3 2023-05-16 14:32:05+00:00  1658480444789383168   \n",
       "4 2023-05-16 14:32:05+00:00  1658480443631767552   \n",
       "\n",
       "                                           full_text display_text_range   \n",
       "0  @cnnportugal Muito semelhante as jóias que bol...           [13, 91]  \\\n",
       "1  @charopa309 @folha Bolsonaro na cadeia 2 tbm e...           [19, 57]   \n",
       "2  @rede_marco Este Bolsonaro só matou muitos dos...           [12, 94]   \n",
       "3    @senadorhumberto Amor pelo bolsonaro e demais 🥱           [17, 47]   \n",
       "4  Petrobras \\nGoverno Bolsonaro \\nEstadão \\nDefe...           [0, 147]   \n",
       "\n",
       "  possibly_sensitive hashtags symbols   \n",
       "0                NaN       []      []  \\\n",
       "1                NaN       []      []   \n",
       "2                NaN       []      []   \n",
       "3                NaN       []      []   \n",
       "4              False       []      []   \n",
       "\n",
       "                                       user_mentions   \n",
       "0  [{'screen_name': 'cnnportugal', 'name': 'CNN P...  \\\n",
       "1  [{'screen_name': 'charopa309', 'name': 'Naro P...   \n",
       "2  [{'screen_name': 'rede_marco', 'name': 'Rede M...   \n",
       "3  [{'screen_name': 'senadorhumberto', 'name': 'H...   \n",
       "4                                                 []   \n",
       "\n",
       "                                                urls media  \n",
       "0                                                 []   NaN  \n",
       "1                                                 []   NaN  \n",
       "2                                                 []   NaN  \n",
       "3                                                 []   NaN  \n",
       "4  [{'url': 'https://t.co/ScEfwzqhUV', 'expanded_...   NaN  "
      ]
     },
     "execution_count": 4,
     "metadata": {},
     "output_type": "execute_result"
    }
   ],
   "source": [
    "df.head()"
   ]
  },
  {
   "cell_type": "code",
   "execution_count": 5,
   "metadata": {},
   "outputs": [
    {
     "name": "stdout",
     "output_type": "stream",
     "text": [
      "DataFrame saved to: data/staged/clean_batch.csv\n"
     ]
    }
   ],
   "source": [
    "save_dataframe_to_csv(df, 'data/staged/', 'clean_batch')"
   ]
  }
 ],
 "metadata": {
  "kernelspec": {
   "display_name": "twitter-data-engineering",
   "language": "python",
   "name": "python3"
  },
  "language_info": {
   "codemirror_mode": {
    "name": "ipython",
    "version": 3
   },
   "file_extension": ".py",
   "mimetype": "text/x-python",
   "name": "python",
   "nbconvert_exporter": "python",
   "pygments_lexer": "ipython3",
   "version": "3.8.16"
  },
  "orig_nbformat": 4
 },
 "nbformat": 4,
 "nbformat_minor": 2
}
